{
 "cells": [
  {
   "cell_type": "markdown",
   "id": "d76726c5",
   "metadata": {},
   "source": [
    "# YouTube Data Collector V2\n",
    "\n",
    "**Released in May 2023**"
   ]
  },
  {
   "cell_type": "markdown",
   "id": "9840ba66",
   "metadata": {},
   "source": [
    "## Functionalities "
   ]
  },
  {
   "cell_type": "markdown",
   "id": "2c1e9cfe",
   "metadata": {},
   "source": [
    "1. Download YouTube Videos in .mp4 format from URL\n",
    "2. Convers the Video images to HD Frames (Images in JPG format)\n",
    "3. Speach Recognition from the Video, and get speech to Text.\n",
    "4. Summarise the speech in bullet points using ChatGPT (V3 Upcoming Feature)"
   ]
  },
  {
   "cell_type": "markdown",
   "id": "1ca5de1d",
   "metadata": {},
   "source": [
    "### Pre-Condition for local speech converter model:\n",
    "Dowbload the model file from : \n",
    "Input the speeck conveted model to folder link : "
   ]
  },
  {
   "cell_type": "code",
   "execution_count": null,
   "id": "61746f52",
   "metadata": {},
   "outputs": [],
   "source": [
    "# importing the module\n",
    "\n",
    "from pytube import YouTube  #fordownloading video from a YouTube url\n",
    "import cv2  #Function to convert video to frames\n",
    "\n",
    "\n",
    "import speech_recognition as sr #For Speach recogntion from the video\n",
    "\n",
    "from moviepy.editor import * #Helper supprt linraries for extracting audio from video\n",
    "import vosk #For Voice to Speech SDK"
   ]
  },
  {
   "cell_type": "code",
   "execution_count": null,
   "id": "ecdc1897",
   "metadata": {},
   "outputs": [],
   "source": [
    "# This is a referance fruntion to create clean filename from the YoutTube vide title\n",
    "# Code Source from GitHub Url: https://gist.github.com/wassname/1393c4a57cfcbf03641dbc31886123b8\n",
    "\n",
    "import unicodedata\n",
    "import string\n",
    "\n",
    "valid_filename_chars = \"-_.() %s%s\" % (string.ascii_letters, string.digits)\n",
    "char_limit = 255\n",
    "\n",
    "# Helper function to handle file names from the YouTube URL.\n",
    "def clean_filename(filename, whitelist=valid_filename_chars, replace=' '):\n",
    "    # replace spaces\n",
    "    for r in replace:\n",
    "        filename = filename.replace(r,' ')\n",
    "    \n",
    "    # keep only valid ascii chars\n",
    "    cleaned_filename = unicodedata.normalize('NFKD', filename).encode('ASCII', 'ignore').decode()\n",
    "    \n",
    "    # keep only whitelisted chars\n",
    "    cleaned_filename = ''.join(c for c in cleaned_filename if c in whitelist)\n",
    "    if len(cleaned_filename)>char_limit:\n",
    "        print(\"Warning, filename truncated because it was over {}. Filenames may no longer be unique\".format(char_limit))\n",
    "    return cleaned_filename[:char_limit]\n",
    "\n",
    "# Helper function to save text to a text file from python\n",
    "def save_text_to_file(text, filename):\n",
    "    with open(filename, 'w') as file:\n",
    "        file.write(text)"
   ]
  },
  {
   "cell_type": "markdown",
   "id": "45a0b97a",
   "metadata": {},
   "source": [
    "## YouTube Video to Frames Function"
   ]
  },
  {
   "cell_type": "code",
   "execution_count": null,
   "id": "34f04cde",
   "metadata": {},
   "outputs": [],
   "source": [
    "def convert_yt_video_to_frames(video_url, fps=10):\n",
    "    try:\n",
    "        #PyTube object is instantiated\n",
    "        yt = YouTube(video_url)\n",
    "        #Printing the name of the video\n",
    "        print(yt.title)\n",
    "\n",
    "        #createing a file name - Using a cleasner fucntion\n",
    "        folder_name = clean_filename(yt.title)\n",
    "        video_file_name = clean_filename(yt.title) +'.mp4'\n",
    "        print('Folder Name: ' + folder_name)\n",
    "        print('Video File Name: ' + video_file_name)\n",
    "        \n",
    "        video_destination = './'+ folder_name\n",
    "        \n",
    "        #Filtering the HigRes with mp4 format with 1080p Res\n",
    "        hig_res = yt.streams.filter(file_extension='mp4', resolution='1080p')\n",
    "        #Saving the filtered object\n",
    "        hig_res\n",
    "\n",
    "        #Getting the itag of the filter object as stream\n",
    "        stream = yt.streams.get_by_itag(hig_res[0].itag)\n",
    "        #downloading the stream\n",
    "        stream.download(output_path=video_destination, filename = video_file_name)\n",
    "        \n",
    "        \n",
    "        #FPS is to only write speicific frames only\n",
    "        FramesPerSecond = fps  #This value is how many frames to be selected - Not actual FPS.\n",
    "\n",
    "        #read the file from the erlier downloadded location\n",
    "        vidcap = cv2.VideoCapture('./'+ folder_name + '/'+ video_file_name)\n",
    "        vidcap.set(cv2.CAP_PROP_FPS, FramesPerSecond)\n",
    "\n",
    "        #Run a while loop through the video to frames\n",
    "        success,image = vidcap.read()\n",
    "        count = 0\n",
    "\n",
    "        while success:\n",
    "            if(count%FramesPerSecond) == 0:\n",
    "                cv2.imwrite('./'+ video_destination +'/'+ \"frame%d.jpg\" % count, image)     # save frame as JPEG file  \n",
    "\n",
    "            success,image = vidcap.read()\n",
    "            print('Read a new frame: ', success)\n",
    "            count += 1\n",
    "            \n",
    "        return print('Freames converted Sucessfully..!')\n",
    "    \n",
    "    except Exception as e:\n",
    "        print(f\"Error occurred while converting video to text: {str(e)}\")\n"
   ]
  },
  {
   "cell_type": "markdown",
   "id": "f9e7b0f4",
   "metadata": {},
   "source": [
    "### Example Usage"
   ]
  },
  {
   "cell_type": "code",
   "execution_count": null,
   "id": "d758994b",
   "metadata": {},
   "outputs": [],
   "source": [
    "# Example usge\n",
    "video_url= 'https://www.youtube.com/watch?v=cZKcCG26VRI' # Replace this with the YouTube url you want to convert\n",
    "fps = 50 # Optional input. \n",
    "convert_yt_video_to_frames(video_url, fps=fps)"
   ]
  },
  {
   "cell_type": "markdown",
   "id": "bdb663f8",
   "metadata": {},
   "source": [
    "## YouTube Video Speech to Text funtion"
   ]
  },
  {
   "cell_type": "code",
   "execution_count": null,
   "id": "5f3b25ec",
   "metadata": {},
   "outputs": [],
   "source": [
    "# Function to convert YouTube video to text\n",
    "def convert_video_to_text(video_url, model_folder):\n",
    "    try:\n",
    "        \n",
    "        #PyTube object is instantiated\n",
    "        yt = YouTube(video_url)\n",
    "        #Printing the name of the video\n",
    "        print(yt.title)\n",
    "\n",
    "        #createing a file name - Using a cleasner fucntion\n",
    "        folder_name = clean_filename(yt.title)\n",
    "        video_file_name = folder_name +'.mp4'\n",
    "       \n",
    "        print('Folder Name: ' + folder_name)\n",
    "        print('Video File Name: ' + video_file_name)\n",
    "        \n",
    "        #stream the video for processing.\n",
    "        video = yt.streams.get_highest_resolution().download()\n",
    "        \n",
    "        # Convert the video file to an audio file in WAV format\n",
    "        video_clip = VideoFileClip(video)\n",
    "        audio_clip = video_clip.audio\n",
    "        audio_file = './'+ folder_name + '/' + folder_name + \".wav\"\n",
    "        audio_clip.write_audiofile(audio_file)\n",
    "\n",
    "        # Initialize the speech recognition recognizer\n",
    "        r = sr.Recognizer()\n",
    "\n",
    "        # Open the audio file and read the audio using Vosk\n",
    "        with sr.AudioFile(audio_file) as source:\n",
    "            audio = r.record(source)  # Read the entire audio file\n",
    "\n",
    "        # Convert speech to text using Vosk\n",
    "        model = vosk.Model(model_folder)\n",
    "        recognizer = vosk.KaldiRecognizer(model, audio.sample_rate)\n",
    "        recognizer.AcceptWaveform(audio.get_wav_data())\n",
    "\n",
    "        text = recognizer.FinalResult()\n",
    "\n",
    "        \n",
    "        # Save the text to the disk (Same folder)\n",
    "        txt_file_name = './'+ folder_name + '/'+ folder_name + '.txt'\n",
    "        save_text_to_file(text, txt_file_name)\n",
    "\n",
    "        return print('Video to Text Convetsion is sucessfull..!') #text\n",
    "\n",
    "    except Exception as e:\n",
    "        print(f\"Error occurred while converting video to text: {str(e)}\")\n",
    "\n"
   ]
  },
  {
   "cell_type": "markdown",
   "id": "8b1954e8",
   "metadata": {},
   "source": [
    "### Example Usage"
   ]
  },
  {
   "cell_type": "code",
   "execution_count": null,
   "id": "c16e05e4",
   "metadata": {},
   "outputs": [],
   "source": [
    "# Example usage\n",
    "\n",
    "model_folder = \"C:/Users/User_Name/Desktop/vosk-model-small-en-us-0.15/vosk-model-small-en-us-0.15\" \n",
    "#Change this with respect to the model folder in your computer\n",
    "conversation_text = convert_video_to_text(video_url, model_folder) # The conversion will be saved in the same folder as .TXT\n",
    "\n",
    "print(conversation_text)"
   ]
  },
  {
   "cell_type": "markdown",
   "id": "deb2e931",
   "metadata": {},
   "source": [
    "*[ --- End of the Code ---]*"
   ]
  }
 ],
 "metadata": {
  "kernelspec": {
   "display_name": "Python 3 (ipykernel)",
   "language": "python",
   "name": "python3"
  },
  "language_info": {
   "codemirror_mode": {
    "name": "ipython",
    "version": 3
   },
   "file_extension": ".py",
   "mimetype": "text/x-python",
   "name": "python",
   "nbconvert_exporter": "python",
   "pygments_lexer": "ipython3",
   "version": "3.9.13"
  },
  "vscode": {
   "interpreter": {
    "hash": "ad2bdc8ecc057115af97d19610ffacc2b4e99fae6737bb82f5d7fb13d2f2c186"
   }
  }
 },
 "nbformat": 4,
 "nbformat_minor": 5
}
